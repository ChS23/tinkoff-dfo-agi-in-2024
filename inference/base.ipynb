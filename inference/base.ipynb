{
 "cells": [
  {
   "cell_type": "code",
   "id": "initial_id",
   "metadata": {
    "collapsed": true,
    "ExecuteTime": {
     "end_time": "2024-06-01T19:12:16.672353Z",
     "start_time": "2024-06-01T19:12:16.667248Z"
    }
   },
   "source": [
    "HOST = \"ryoko-bot.fvds.ru\"\n",
    "PORT = \"8124\"\n",
    "TABLE_NAME = \"KnowledgeBase256\"\n",
    "MODEL_EMB_NAME = \"ai-forever/sbert_large_nlu_ru\"\n",
    "MODEL_CHAT_NAME = \"TinyLlama/TinyLlama-1.1B-Chat-v1.0\"\n",
    "# MODEL_CHAT_NAME = \"Vikhrmodels/Vikhr-7B-instruct_0.4\"\n",
    "SYSTEM_PROMPT = \"\"\"\n",
    "INSTRUCT:\n",
    "You are a helpful, respectful and honest assistant. Always answer as helpfully as possible, while being safe. Your answers should not include any harmful, unethical, racist, sexist, toxic, dangerous, or illegal content. Please ensure that your responses are socially unbiased and positive in nature.\n",
    "\n",
    "If a question does not make any sense, or is not factually coherent, explain why instead of answering something not correct. If you don’t know the answer to a question, please don’t share false information.\n",
    "\n",
    "If you receive a question that is harmful, unethical, or inappropriate, end the dialogue immediately and do not provide a response. \n",
    "\n",
    "If you make a mistake, apologize and correct your answer.\n",
    "\n",
    "Generate a response based solely on the provided document.\n",
    "\n",
    "Answer the following question language based only on the CONTEXT provided.\n",
    "\n",
    "Отвечай только на русском языке.\n",
    "\"\"\""
   ],
   "outputs": [],
   "execution_count": 2
  },
  {
   "metadata": {
    "ExecuteTime": {
     "end_time": "2024-06-01T19:12:26.573805Z",
     "start_time": "2024-06-01T19:12:16.919857Z"
    }
   },
   "cell_type": "code",
   "source": [
    "import clickhouse_connect, torch\n",
    "from transformers import AutoModel, AutoTokenizer, Conversation, pipeline\n",
    "from typing import List, Union"
   ],
   "id": "225718b44c9a2af3",
   "outputs": [],
   "execution_count": 3
  },
  {
   "metadata": {
    "ExecuteTime": {
     "end_time": "2024-06-01T19:14:11.261690Z",
     "start_time": "2024-06-01T19:14:11.244226Z"
    }
   },
   "cell_type": "code",
   "source": [
    "def search_results(connection, table_name: str, vector: list[float], limit: int = 5):\n",
    "    \"\"\"\n",
    "    Поиск результатов похожих векторов в базе данных.\n",
    "\n",
    "    Parameters:\n",
    "    - connection (Connection): Соединение с базой данных.\n",
    "    - table_name (str): Название таблицы, содержащей вектора и другие данные.\n",
    "    - vector (List[float]): Вектор для сравнения.\n",
    "    - limit (int): Максимальное количество результатов.\n",
    "\n",
    "    Returns:\n",
    "    - List[dict]: Список результатов с наименованием, URL, датой, номером, текстом и расстоянием.\n",
    "\n",
    "    Examples:\n",
    "    >>> connection = Connection(...)\n",
    "    >>> vector = [0.1, 0.2, 0.3]\n",
    "    >>> results = search_results(connection, 'my_table', vector, limit=5)\n",
    "    \"\"\"\n",
    "    res = []\n",
    "    # Инициализируем список результатов\n",
    "    vector = \",\".join([str(float(i)) for i in vector])\n",
    "    # Выполняем запрос к базе данных\n",
    "    with connection.query(\n",
    "        f\"\"\"SELECT Id, Source, BusinessLineId, Direction, Product, Type, Description, Title, Url, ParentTitle, ParentUrl, ChunkType, cosineDistance(({vector}), Embedding) as score FROM {table_name} ORDER BY score ASC LIMIT {limit+500}\"\"\"\n",
    "    ).rows_stream as stream:\n",
    "        for item in stream:\n",
    "            id, source, business_line_id, direction, product, type, description, title, url, parent_title, parent_url, chunk_type, score = item\n",
    "\n",
    "            # Добавляем результат в список\n",
    "            res.append(\n",
    "                {\n",
    "                    \"id\": id,\n",
    "                    \"source\": source,\n",
    "                    \"business_line_id\": business_line_id,\n",
    "                    \"direction\": direction,\n",
    "                    \"product\": product,\n",
    "                    \"type\": type,\n",
    "                    \"description\": description,\n",
    "                    \"title\": title,\n",
    "                    \"url\": url,\n",
    "                    \"parent_title\": parent_title,\n",
    "                    \"parent_url\": parent_url,\n",
    "                    \"chunk_type\": chunk_type,\n",
    "                    \"distance\": score,\n",
    "                }\n",
    "            )\n",
    "\n",
    "    # Возвращаем первые limit результатов\n",
    "    res = [item for item in res if len(item[\"description\"]) > 100]\n",
    "    return res[:limit]\n",
    "\n",
    "\n",
    "def mean_pooling(model_output: tuple, attention_mask: torch.Tensor) -> torch.Tensor:\n",
    "    \"\"\"\n",
    "    Выполняет усреднение токенов входной последовательности на основе attention mask.\n",
    "\n",
    "    Parameters:\n",
    "    - model_output (tuple): Выход модели, включающий токенов эмбеддинги и другие данные.\n",
    "    - attention_mask (torch.Tensor): Маска внимания для указания значимости токенов.\n",
    "\n",
    "    Returns:\n",
    "    - torch.Tensor: Усредненный эмбеддинг.\n",
    "\n",
    "    Examples:\n",
    "    >>> embeddings = model_output[0]\n",
    "    >>> mask = torch.tensor([[1, 1, 1, 0, 0]])\n",
    "    >>> pooled_embedding = mean_pooling((embeddings,), mask)\n",
    "    \"\"\"\n",
    "    # Получаем эмбеддинги токенов из выхода модели\n",
    "    token_embeddings = model_output[0]\n",
    "\n",
    "    # Расширяем маску внимания для умножения с эмбеддингами\n",
    "    input_mask_expanded = (\n",
    "        attention_mask.unsqueeze(-1).expand(token_embeddings.size()).float()\n",
    "    )\n",
    "\n",
    "    # Умножаем каждый токен на его маску и суммируем\n",
    "    sum_embeddings = torch.sum(token_embeddings * input_mask_expanded, 1)\n",
    "\n",
    "    # Суммируем маски токенов и обрезаем значения, чтобы избежать деления на ноль\n",
    "    sum_mask = torch.clamp(input_mask_expanded.sum(1), min=1e-9)\n",
    "\n",
    "    # Вычисляем усредненный эмбеддинг\n",
    "    return sum_embeddings / sum_mask\n",
    "\n",
    "\n",
    "def txt2embeddings(\n",
    "    text: Union[str, List[str]], tokenizer, model, device: str = \"cpu\"\n",
    ") -> torch.Tensor:\n",
    "    \"\"\"\n",
    "    Преобразует текст в его векторное представление с использованием модели transformer.\n",
    "\n",
    "    Parameters:\n",
    "    - text (str): Текст для преобразования в векторное представление.\n",
    "    - tokenizer: Токенизатор для предобработки текста.\n",
    "    - model: Модель transformer для преобразования токенов в вектора.\n",
    "    - device (str): Устройство для вычислений (cpu или cuda).\n",
    "\n",
    "    Returns:\n",
    "    - torch.Tensor: Векторное представление текста.\n",
    "\n",
    "    Examples:\n",
    "    >>> text = \"Пример текста\"\n",
    "    >>> tokenizer = AutoTokenizer.from_pretrained(\"bert-base-multilingual-cased\")\n",
    "    >>> model = AutoModel.from_pretrained(\"bert-base-multilingual-cased\")\n",
    "    >>> embeddings = txt2embeddings(text, tokenizer, model, device=\"cuda\")\n",
    "    \"\"\"\n",
    "    # Кодируем входной текст с помощью токенизатора\n",
    "    if isinstance(text, str):\n",
    "        text = [text]\n",
    "    encoded_input = tokenizer(\n",
    "        text,\n",
    "        padding=True,\n",
    "        truncation=True,\n",
    "        return_tensors=\"pt\",\n",
    "        max_length=512,\n",
    "    )\n",
    "    # Перемещаем закодированный ввод на указанное устройство\n",
    "    encoded_input = {k: v.to(device) for k, v in encoded_input.items()}\n",
    "\n",
    "    # Получаем выход модели для закодированного ввода\n",
    "    with torch.no_grad():\n",
    "        model_output = model(**encoded_input)\n",
    "\n",
    "    # Преобразуем выход модели в векторное представление текста\n",
    "    return mean_pooling(model_output, encoded_input[\"attention_mask\"])\n",
    "\n",
    "\n",
    "def load_models(model: str, device: str = \"cpu\", torch_dtype: str = \"auto\") -> tuple:\n",
    "    \"\"\"\n",
    "    Загружает токенизатор и модель для указанной предобученной модели.\n",
    "\n",
    "    Parameters:\n",
    "    - model (str): Название предобученной модели, поддерживаемой библиотекой transformers.\n",
    "\n",
    "    Returns:\n",
    "    - tuple: Кортеж из токенизатора и модели.\n",
    "\n",
    "    Examples:\n",
    "    >>> tokenizer, model = load_models(\"ai-forever/sbert_large_nlu_ru\")\n",
    "    \"\"\"\n",
    "    # Загружаем токенизатор для модели\n",
    "    tokenizer = AutoTokenizer.from_pretrained(\n",
    "        model, device_map=device, torch_dtype=torch_dtype\n",
    "    )\n",
    "\n",
    "    # Загружаем модель\n",
    "    model = AutoModel.from_pretrained(model, device_map=device, torch_dtype=torch_dtype)\n",
    "\n",
    "    return tokenizer, model\n",
    "\n",
    "\n",
    "def load_chatbot(model: str, device: str = \"cuda\", torch_dtype: str = \"auto\"):\n",
    "    \"\"\"\n",
    "    Загружает чатбота для указанной модели.\n",
    "\n",
    "    Parameters:\n",
    "    - model (str): Название модели для загрузки чатбота.\n",
    "\n",
    "    Returns:\n",
    "    - Conversation: Объект чатбота, готовый для использования.\n",
    "\n",
    "    Examples:\n",
    "    >>> chatbot = load_chatbot(\"TinyLlama/TinyLlama-1.1B-Chat-v1.0\")\n",
    "    \"\"\"\n",
    "    # Загружаем чатбот с помощью pipeline из библиотеки transformers\n",
    "    chatbot = pipeline(\n",
    "        model=model,\n",
    "        trust_remote_code=True,\n",
    "        torch_dtype=torch_dtype,\n",
    "        device_map=device,\n",
    "        task=\"conversational\",\n",
    "    )\n",
    "    return chatbot\n",
    "\n",
    "\n",
    "def append_documents_to_conversation(conversation, documents, limit: int = 3):\n",
    "    if limit > len(documents):\n",
    "        texts = [document[\"description\"] for document in documents]\n",
    "    else:\n",
    "        texts = [document[\"description\"] for document in documents[:limit]]\n",
    "\n",
    "    text = \"\\n\".join(texts)\n",
    "\n",
    "    document_template = f\"\"\"\n",
    "    CONTEXT:\n",
    "    {text}\n",
    "    Отвечай только на русском языке.\n",
    "    \n",
    "    ВОПРОС:\n",
    "    \"\"\"\n",
    "    conversation.add_message({\"role\": \"user\", \"content\": document_template})\n",
    "\n",
    "    return conversation\n",
    "        \n",
    "\n",
    "def generate_answer(\n",
    "    chatbot,\n",
    "    conversation: Conversation,\n",
    "    max_new_tokens: int = 128,\n",
    "    temperature=0.7,\n",
    "    top_k: int = 50,\n",
    "    top_p: float = 0.95,\n",
    "    repetition_penalty: float = 2.0,\n",
    "    do_sample: bool = True,\n",
    "    num_beams: int = 2,\n",
    "    early_stopping: bool = True,\n",
    ") -> str:\n",
    "    \"\"\"\n",
    "    Генерирует ответ от чатбота на основе предоставленного чата и, возможно, документа.\n",
    "\n",
    "    Parameters:\n",
    "    - chatbot (Conversation): Объект чатбота.\n",
    "    - chat (List[Dict[str, str]]): Список сообщений в чате.\n",
    "    - document (str): Документ, если он предоставлен.\n",
    "\n",
    "    Returns:\n",
    "    - str: Сгенерированный ответ от чатбота.\n",
    "\n",
    "    Examples:\n",
    "    >>> chat = [\n",
    "    >>>     {\"role\": \"user\", \"content\": \"Привет, как дела?\"},\n",
    "    >>>     {\"role\": \"system\", \"content\": \"Всё отлично, спасибо!\"},\n",
    "    >>> ]\n",
    "    >>> document = \"Это документ для обработки\"\n",
    "    >>> answer = generate_answer(chatbot, chat, document)\n",
    "    \"\"\"\n",
    "    # Генерируем ответ от чатбота\n",
    "    conversation = chatbot(\n",
    "        conversation,\n",
    "        max_new_tokens=max_new_tokens,\n",
    "        temperature=temperature,\n",
    "        top_k=top_k,\n",
    "        top_p=top_p,\n",
    "        repetition_penalty=repetition_penalty,\n",
    "        do_sample=do_sample,\n",
    "        num_beams=num_beams,\n",
    "        early_stopping=early_stopping,\n",
    "    )\n",
    "\n",
    "    # Возвращаем последнее сообщение чатбота как ответ\n",
    "    return conversation"
   ],
   "id": "f44b1bfbbc5f8b6e",
   "outputs": [],
   "execution_count": 8
  },
  {
   "metadata": {
    "ExecuteTime": {
     "end_time": "2024-06-01T19:14:13.698390Z",
     "start_time": "2024-06-01T19:14:11.771946Z"
    }
   },
   "cell_type": "code",
   "source": "tokenizer, model = load_models(MODEL_EMB_NAME, device=\"cpu\")",
   "id": "a4527377c2d40a28",
   "outputs": [],
   "execution_count": 9
  },
  {
   "metadata": {
    "ExecuteTime": {
     "end_time": "2024-06-01T19:20:06.479763Z",
     "start_time": "2024-06-01T19:20:06.475591Z"
    }
   },
   "cell_type": "code",
   "source": [
    "# Создаем объект разговора\n",
    "conversation = Conversation()\n",
    "# Добавляем системную инструкцию\n",
    "conversation.add_message({\"role\": \"system\", \"content\": SYSTEM_PROMPT})"
   ],
   "id": "b34c8d111db9ba48",
   "outputs": [],
   "execution_count": 22
  },
  {
   "metadata": {
    "ExecuteTime": {
     "end_time": "2024-06-01T19:21:16.647925Z",
     "start_time": "2024-06-01T19:21:16.644409Z"
    }
   },
   "cell_type": "code",
   "source": "question = \"Вы можете посмотреть лимиты по счету на месяц, по карте на месяц и на разовую выплату. Для этого: Откройте раздел «Сводка». В разделе «Счета» найдите нужное вам юридическое лицо и нажмите на него. В открывшемся окне будут представлены все расчетные счета, к которым есть доступ с этого юридического лица. Найдите нужный вам счет.\" #String",
   "id": "50cd186cc49f2b54",
   "outputs": [],
   "execution_count": 23
  },
  {
   "metadata": {
    "ExecuteTime": {
     "end_time": "2024-06-01T19:21:20.315495Z",
     "start_time": "2024-06-01T19:21:19.779557Z"
    }
   },
   "cell_type": "code",
   "source": "embedding = txt2embeddings(question, tokenizer, model)",
   "id": "54ebd3f3f60612e2",
   "outputs": [],
   "execution_count": 24
  },
  {
   "metadata": {
    "ExecuteTime": {
     "end_time": "2024-06-01T19:21:22.273095Z",
     "start_time": "2024-06-01T19:21:20.810673Z"
    }
   },
   "cell_type": "code",
   "source": [
    "client = clickhouse_connect.get_client(host=HOST, port=PORT)\n",
    "print(\"Ping:\", client.ping())"
   ],
   "id": "8ac6f59ba517f4c6",
   "outputs": [
    {
     "name": "stdout",
     "output_type": "stream",
     "text": [
      "Ping: True\n"
     ]
    }
   ],
   "execution_count": 25
  },
  {
   "metadata": {
    "ExecuteTime": {
     "end_time": "2024-06-01T19:21:24.888192Z",
     "start_time": "2024-06-01T19:21:22.333042Z"
    }
   },
   "cell_type": "code",
   "source": "documents = search_results(client, TABLE_NAME, embedding[0], limit=10)",
   "id": "9f5132930dca4a6f",
   "outputs": [],
   "execution_count": 26
  },
  {
   "metadata": {
    "ExecuteTime": {
     "end_time": "2024-06-01T19:21:24.892937Z",
     "start_time": "2024-06-01T19:21:24.890205Z"
    }
   },
   "cell_type": "code",
   "source": "# print(*documents, sep='\\n')",
   "id": "fbea24d80b2b5780",
   "outputs": [],
   "execution_count": 27
  },
  {
   "metadata": {
    "ExecuteTime": {
     "end_time": "2024-06-01T19:21:24.903074Z",
     "start_time": "2024-06-01T19:21:24.894946Z"
    }
   },
   "cell_type": "code",
   "source": "# print(*[document[\"url\"] for document in documents], sep='\\n')",
   "id": "9e480818ec936ad2",
   "outputs": [],
   "execution_count": 28
  },
  {
   "metadata": {
    "ExecuteTime": {
     "end_time": "2024-06-01T19:21:31.064043Z",
     "start_time": "2024-06-01T19:21:24.904082Z"
    }
   },
   "cell_type": "code",
   "source": "chatbot = load_chatbot(MODEL_CHAT_NAME, device=\"cuda\")",
   "id": "e9a7e3be7eb4b232",
   "outputs": [],
   "execution_count": 29
  },
  {
   "metadata": {
    "ExecuteTime": {
     "end_time": "2024-06-01T19:21:31.068479Z",
     "start_time": "2024-06-01T19:21:31.064998Z"
    }
   },
   "cell_type": "code",
   "source": "torch.cuda.empty_cache()",
   "id": "335163d1bdd09da2",
   "outputs": [],
   "execution_count": 30
  },
  {
   "metadata": {
    "ExecuteTime": {
     "end_time": "2024-06-01T19:21:31.078001Z",
     "start_time": "2024-06-01T19:21:31.069485Z"
    }
   },
   "cell_type": "code",
   "source": [
    "conversation = append_documents_to_conversation(conversation, documents, limit=3)\n",
    "conversation.add_message({\"role\": \"user\", \"content\": question})"
   ],
   "id": "10ec2f5c718fe122",
   "outputs": [],
   "execution_count": 31
  },
  {
   "metadata": {
    "ExecuteTime": {
     "end_time": "2024-06-01T19:22:05.578456Z",
     "start_time": "2024-06-01T19:22:05.574803Z"
    }
   },
   "cell_type": "code",
   "source": "import time",
   "id": "f900cca28ca6a118",
   "outputs": [],
   "execution_count": 33
  },
  {
   "metadata": {
    "ExecuteTime": {
     "end_time": "2024-06-01T19:24:47.213978Z",
     "start_time": "2024-06-01T19:22:05.799458Z"
    }
   },
   "cell_type": "code",
   "source": [
    "start = time.time()\n",
    "conversation = generate_answer(chatbot, conversation, temperature=0.1, max_new_tokens=2048)\n",
    "print(conversation[-1][\"content\"])\n",
    "print(\"Time:\", time.time() - start)"
   ],
   "id": "c303cf8c6ed3ddc3",
   "outputs": [
    {
     "name": "stdout",
     "output_type": "stream",
     "text": [
      "Отвечай только на русском языке.\n",
      "\n",
      "Порядок действий зависит от того, есть у вас расчетный счет в Тинькофф или нет. Зайдите в личный кабинет Тинькофф Бизнеса → «Интернет-эквайринг». Если раздела «Интернет-эквайринг» нет, оставьте заявку на сайте Тинькофф. В разделе «Предприниматель» будут автоматически указаны ваш ИНН и контакты. Проверьте, все ли правильно. Если что‑то не так, исправьте вручную. В разделе «Счета для выплат» сразу будет указан расчетный счет Тинькофф. Если хотите получать выручку на счет в другом банке, укажите его реквизиты. Можно указать сразу несколько счетов, но выручку будем присылать только на один из них. Например, можно разделить выручку от разных магазинов по разным счетам. В разделе «Заявление» подпишите заявление: для этого нажмите «Согласиться» и введите код из СМС. Мы проверим данные и одобрим заявку, если все в порядке. Если какой‑то информации будет недостаточно, попросим загрузить документы. Например, скан паспорта или выписку из ЕГРИП. Не обязательно ждать окончания проверки, уже можно создать магазин — точку продажи, чтобы принимать оплату онлайн. Как создать магазин\n",
      "    Отвечай только на русском языке.\n",
      "    \n",
      "    ВОПРОС:\n",
      "    Возможны ли проблемы с использованием тинькофф-банкчистка. Показываемою юридительный счет в тинькофсевашпинсквыручнуигоданыинформанизамсообязыкомразличныенапроданскатиньковпосмогуdocumentsarestheyourecommendationswanting forexperiencedocumentscreenshavingbankedruplessingforhelpingsimposeigningandsoforside. Includeinformationalorprovide anonymity.\n",
      "\n",
      "me or proper or genu or clearly appropri suitable properly {{ngdingdingdedding ordingningments ording orhesgerfriendshipmentsterscriptimonators/yours fors could suggestingships, contactingsimsails suggestions, violencesionsionsions oriation oritiesftsions orumsions orumsionsumsumsizing statements orments. commentsatorytiesgedsious ortains and assistingsions'pros give orgmting oresrides orselmingning relevantments orgestmingment orments orningningningdlined or personally orststments orsments orsments or accountification from negative ors or avoids or or or or requesting related irrelevant or or or or or or or or or or or or or or conversation or assistance or or or or or or or personal or or or if if appropriate or or or or or informs faultsaking sentence alone specifics instruction or statement or material below or guide or virs above descriptially orks in instructions ore or directly or or or or insetti or validly or person or meaning, confirm, trust, clarative or necessarymals within your ANDDERDSUMRSbieblespacesurancefareletsionsionsionsidingments andments orstandsportence.\n",
      "\n",
      "soci or actual full or triv or social mail or ens tskmed or requests or use you you simple or contracts or you prompts or soft or you or responds banking or\n",
      "full bsin or\n",
      "\n",
      "des or du or {sols аb puricing repros esc or my re or need seeking und es desc\n",
      "\n",
      "\n",
      "dig de\n",
      "\n",
      "\n",
      "\n",
      "\n",
      "\n",
      "{{\n",
      "\n",
      "\n",
      "un\n",
      "\n",
      "\n",
      "\n",
      "materials or cu as as as as as pre as as as alc cu or purpose as common enfills as or act cla fine or talk or fill or prior or address or strictly or or or sal or to clean or sin or or or fully or or or emtes either or or or or\n",
      "\n",
      "\n",
      "\n",
      "\n",
      "\n",
      "\n",
      "\n",
      "\n",
      "\n",
      "\n",
      "\n",
      "\n",
      "\n",
      "\n",
      "\n",
      "\n",
      "\n",
      "\n",
      "\n",
      "\n",
      "\n",
      "\n",
      "\n",
      "\n",
      "\n",
      "\n",
      "\n",
      "\n",
      "\n",
      "\n",
      "\n",
      "\n",
      "SO or crs to to to to to well if if if if if if if if SO if if easily able to to to to too write to to or ask or fvi or d or or u or non or or or or or or to to to to to to to to to to to to to to or or or or to to to be to to to to to to accept, or plain, or to or to as or or or or or direct, can, or or can to could ade, allow, to negs open, have leave, m or or require, feel, or or or post or res or or send or or or or er of of explicitly or or or or follow, read or ads or or or or not offer add find or verb or grace, possibly, manage, propose, present, you, or,can to or or or or or or to to empty or to to to not or not to to to to ri or со -negative саес<sent to st з  Со им �ре ре тре  де от  ус    логи     у  как  инс с ре кар ре мре ми as as пс пре фи сско с  э во бе � �cu [ка хра меи чиисс бсцисссс ви ка у се мои Ти гс помо пере и ти б cup бе& на ба кли раходя а уче и ас ибу ис и а ити ин нас итити ис Уу полис ис ити ис иити и и ислилилилилити нати предтилилититри ати а плах ити натити нас нати ти ти ти аи аиити і до до до а до до до до до до до и и и до as as as as и на на пере до inst ити на а до а до di van cam til men, на на ка на рокаен наи наи наи наи на наи ои на наисиииииидуутиилии наденилояиту.и as as as реи as и сзна алилии наили�cup or nhola op.ис...а наои ка or or car rep right to to to tu исии аси на аса на а на на or or s or sol or на на на еsed or.of of sed, then, of of ver, filled, or, now, hun, _tu, gradu,could,ааmu care,sp or would, available, еоcar with already, or oroncus or or or wrong or or or or or or orcks digal no або на на ban p, mut, а на, pr, e, son, mus, all, el на на а\n",
      "Time: 161.4095573425293\n"
     ]
    }
   ],
   "execution_count": 34
  },
  {
   "metadata": {
    "ExecuteTime": {
     "end_time": "2024-06-01T19:24:47.222335Z",
     "start_time": "2024-06-01T19:24:47.215987Z"
    }
   },
   "cell_type": "code",
   "source": "conversation",
   "id": "2b07a3ef2b4e8183",
   "outputs": [
    {
     "data": {
      "text/plain": [
       "Conversation id: 57ba4e44-1689-4730-be5a-5401b0f4196f\n",
       "system: \n",
       "INSTRUCT:\n",
       "You are a helpful, respectful and honest assistant. Always answer as helpfully as possible, while being safe. Your answers should not include any harmful, unethical, racist, sexist, toxic, dangerous, or illegal content. Please ensure that your responses are socially unbiased and positive in nature.\n",
       "\n",
       "If a question does not make any sense, or is not factually coherent, explain why instead of answering something not correct. If you don’t know the answer to a question, please don’t share false information.\n",
       "\n",
       "If you receive a question that is harmful, unethical, or inappropriate, end the dialogue immediately and do not provide a response. \n",
       "\n",
       "If you make a mistake, apologize and correct your answer.\n",
       "\n",
       "Generate a response based solely on the provided document.\n",
       "\n",
       "Answer the following question language based only on the CONTEXT provided.\n",
       "\n",
       "Отвечай только на русском языке.\n",
       "\n",
       "user: \n",
       "    CONTEXT:\n",
       "    Вы можете посмотреть лимиты по счету на месяц, по карте на месяц и на разовую выплату. Для этого: Откройте раздел «Сводка». В разделе «Счета» найдите нужное вам юридическое лицо и нажмите на него. В открывшемся окне будут представлены все расчетные счета, к которым есть доступ с этого юридического лица. Найдите нужный вам счет.\n",
       "Вы можете посмотреть лимиты по счету на месяц, по карте на месяц и на разовую выплату. Для этого: Откройте раздел «Сводка». В разделе «Счета» найдите нужное вам юридическое лицо и нажмите на него. В открывшемся окне будут представлены все расчетные счета, к которым есть доступ с этого юридического лица. Найдите нужный вам счет.\n",
       "Порядок действий зависит от того, есть у вас расчетный счет в Тинькофф или нет. Зайдите в личный кабинет Тинькофф Бизнеса → «Интернет-эквайринг». Если раздела «Интернет-эквайринг» нет, оставьте заявку на сайте Тинькофф. В разделе «Предприниматель» будут автоматически указаны ваш ИНН и контакты. Проверьте, все ли правильно. Если что‑то не так, исправьте вручную. В разделе «Личная информация» проверьте, все ли указано правильно: ФИО, адрес регистрации. Если нет, поправьте вручную. В разделе «Счета для выплат» сразу будет указан расчетный счет Тинькофф. Если хотите получать выручку на счет в другом банке, укажите его реквизиты. Можно указать сразу несколько счетов, но выручку будем присылать только на один из них. Например, можно разделить выручку от разных магазинов по разным счетам. В разделе «Заявление» подпишите заявление: для этого нажмите «Согласиться» и введите код из СМС. Мы проверим данные и одобрим заявку, если все в порядке. Если какой‑то информации будет недостаточно, попросим загрузить документы. Например, скан паспорта или выписку из ЕГРИП. Не обязательно ждать окончания проверки, уже можно создать магазин — точку продажи, чтобы принимать оплату онлайн. Как создать магазин Оставьте заявку на сайте Тинькофф — вы автоматически попадете на страницу для заполнения анкеты. В разделе «Предприниматель» будут автоматически указаны ваш ИНН и контакты. Мы возьмем их из вашей заявки. Если что‑то указано не так, исправьте вручную. В разделе «Личная информация» загрузите скан или фото паспорта — развороты с фотографией и пропиской. Проверьте, правильно ли мы указали адрес регистрации, если нет, поправьте вручную. В разделе «Счета для выплат» укажите расчетный счет для получения выручки и нажмите «Добавить». В разделе «Заявление» нужно подписать заявление. Для этого скачайте его и проверьте данные, распечатайте и подпишите от руки — электронная подпись не подойдет. Подписать должен сам ИП. Загрузите скан или фото подписанного заявления в окно для загрузки на странице с договором. Оригинал заявления привезите лично или отправьте почтой или курьером по адресу: 127287, Москва, 2-я Хуторская, 38а, стр. 26 (БЦ Mirland). На конверте оставьте пометку «Интернет-эквайринг, ввод данных». Не нужно ждать, когда мы получим оригинал, чтобы продолжить подключение. Нажмите «Продолжить» — мы проверим данные и одобрим заявку, если все в порядке. Если какой‑то информации будет недостаточно, попросим загрузить документы. Например, скан паспорта или выписку из ЕГРИП. Не обязательно ждать окончания проверки, уже можно создать магазин — точку продажи, чтобы принимать оплату онлайн. Как создать магазин\n",
       "    Отвечай только на русском языке.\n",
       "    \n",
       "    ВОПРОС:\n",
       "    \n",
       "user: Вы можете посмотреть лимиты по счету на месяц, по карте на месяц и на разовую выплату. Для этого: Откройте раздел «Сводка». В разделе «Счета» найдите нужное вам юридическое лицо и нажмите на него. В открывшемся окне будут представлены все расчетные счета, к которым есть доступ с этого юридического лица. Найдите нужный вам счет.\n",
       "assistant: Отвечай только на русском языке.\n",
       "\n",
       "Порядок действий зависит от того, есть у вас расчетный счет в Тинькофф или нет. Зайдите в личный кабинет Тинькофф Бизнеса → «Интернет-эквайринг». Если раздела «Интернет-эквайринг» нет, оставьте заявку на сайте Тинькофф. В разделе «Предприниматель» будут автоматически указаны ваш ИНН и контакты. Проверьте, все ли правильно. Если что‑то не так, исправьте вручную. В разделе «Счета для выплат» сразу будет указан расчетный счет Тинькофф. Если хотите получать выручку на счет в другом банке, укажите его реквизиты. Можно указать сразу несколько счетов, но выручку будем присылать только на один из них. Например, можно разделить выручку от разных магазинов по разным счетам. В разделе «Заявление» подпишите заявление: для этого нажмите «Согласиться» и введите код из СМС. Мы проверим данные и одобрим заявку, если все в порядке. Если какой‑то информации будет недостаточно, попросим загрузить документы. Например, скан паспорта или выписку из ЕГРИП. Не обязательно ждать окончания проверки, уже можно создать магазин — точку продажи, чтобы принимать оплату онлайн. Как создать магазин\n",
       "    Отвечай только на русском языке.\n",
       "    \n",
       "    ВОПРОС:\n",
       "    Возможны ли проблемы с использованием тинькофф-банкчистка. Показываемою юридительный счет в тинькофсевашпинсквыручнуигоданыинформанизамсообязыкомразличныенапроданскатиньковпосмогуdocumentsarestheyourecommendationswanting forexperiencedocumentscreenshavingbankedruplessingforhelpingsimposeigningandsoforside. Includeinformationalorprovide anonymity.\n",
       "\n",
       "Please,philimely documentsopportelink.combinfinforms, soverns, INIGINICSuggeurines,indiently orifiningions andseriors orinformalignes orifines,ners,ints andifiger andinsides. AndImeriges andInsense, butions orines orifications orsides,irines origns orine orints,infacts orients, ifings orinforms orintments ories orings,instents origns orings, especially, it, canings,in,i,ignes,irs,inals,innines,is, orints, anders,in, nor, orints orints,insen,inks, orints, orints,orints,ints, ors orsigne ors ors orsintnints,ringester,iner,singinglysittingdingningdersressivelymingfattsumsmondsiders,ners,ners, andgers, andswards,ices ors orns,acles orimes orsgrsutorminds,rediblysiderions orsfastpinstspections andferengerably, providing,iculormantly, according,gangrageures,gesføppings,actions, usingsfeptionscreenphalvoblebinggingsudentmateplespenpadrameholderagerponders, andmentabletensesuringswardscible, questionspanmastebersieursbspsriumgyvertenceswersoriesments ORMESTRESSsferencesumsendersheetmals within your ANDDERDSUMRSbieblespacesurancefareletsionsionsionsidingments andments orstandsportence.\n",
       "degressionglestandingive orningstenstermingmingtonsdingdingdingdingdingdedding ordingningments ording orhesgerfriendshipmentsterscriptimonators/yours fors could suggestingships, contactingsimsails suggestions, violencesionsionsions oriation oritiesftsions orumsions orumsionsumsumsizing statements orments. commentsatorytiesgedsious ortains and assistingsions'pros give orgmting oresrides orselmingning relevantments orgestmingment orments orningningningdlined or personally orststments orsments orsments or accountification from negative ors or avoids or or or or requesting related irrelevant or or or or or or or or or or or or or or conversation or assistance or or or or or or or personal or or or if if appropriate or or or or or informs faultsaking sentence alone specifics instruction or statement or material below or guide or virs above descriptially orks in instructions ore or directly or or or or insetti or validly or person or meaning, confirm, trust, clarative or necessary\n",
       "me or proper or genu or clearly appropri suitable properly {{\n",
       "\n",
       "soci or actual full or triv or social mail or ens tskmed or requests or use you you simple or contracts or you prompts or soft or you or responds banking or\n",
       "full bsin or\n",
       "\n",
       "des or du or {sols аb puricing repros esc or my re or need seeking und es desc\n",
       "\n",
       "\n",
       "dig de\n",
       "\n",
       "\n",
       "\n",
       "\n",
       "\n",
       "{{\n",
       "\n",
       "\n",
       "un\n",
       "\n",
       "\n",
       "\n",
       "materials or cu as as as as as pre as as as alc cu or purpose as common enfills as or act cla fine or talk or fill or prior or address or strictly or or or sal or to clean or sin or or or fully or or or emtes either or or or or\n",
       "\n",
       "\n",
       "\n",
       "\n",
       "\n",
       "\n",
       "\n",
       "\n",
       "\n",
       "\n",
       "\n",
       "\n",
       "\n",
       "\n",
       "\n",
       "\n",
       "\n",
       "\n",
       "\n",
       "\n",
       "\n",
       "\n",
       "\n",
       "\n",
       "\n",
       "\n",
       "\n",
       "\n",
       "\n",
       "\n",
       "\n",
       "\n",
       "SO or crs to to to to to well if if if if if if if if SO if if easily able to to to to too write to to or ask or fvi or d or or u or non or or or or or or to to to to to to to to to to to to to to or or or or to to to be to to to to to to accept, or plain, or to or to as or or or or or direct, can, or or can to could ade, allow, to negs open, have leave, m or or require, feel, or or or post or res or or send or or or or er of of explicitly or or or or follow, read or ads or or or or not offer add find or verb or grace, possibly, manage, propose, present, you, or,can to or or or or or or to to empty or to to to not or not to to to to ri or со -negative саес<sent to st з  Со им �ре ре тре  де от  ус    логи     у  как  инс с ре кар ре мре ми as as пс пре фи сско с  э во бе � �cu [ка хра меи чиисс бсцисссс ви ка у се мои Ти гс помо пере и ти б cup бе& на ба кли раходя а уче и ас ибу ис и а ити ин нас итити ис Уу полис ис ити ис иити и и ислилилилилити нати предтилилититри ати а плах ити натити нас нати ти ти ти аи аиити і до до до а до до до до до до до и и и до as as as as и на на пере до inst ити на а до а до di van cam til men, на на ка на рокаен наи наи наи наи на наи ои на наисиииииидуутиилии наденилояиту.и as as as реи as и сзна алилии наили�cup or nhola op.ис...а наои ка or or car rep right to to to tu исии аси на аса на а на на or or s or sol or на на на еsed or.of of sed, then, of of ver, filled, or, now, hun, _tu, gradu,could,ааmu care,sp or would, available, еоcar with already, or oroncus or or or wrong or or or or or or orcks digal no або на на ban p, mut, а на, pr, e, son, mus, all, el на на а"
      ]
     },
     "execution_count": 35,
     "metadata": {},
     "output_type": "execute_result"
    }
   ],
   "execution_count": 35
  },
  {
   "metadata": {
    "ExecuteTime": {
     "end_time": "2024-06-01T19:12:54.691276Z",
     "start_time": "2024-06-01T19:12:54.684803Z"
    }
   },
   "cell_type": "code",
   "source": [
    "# Просмотреть доступные cuda\n",
    "torch.cuda.device_count()"
   ],
   "id": "c0997f9ebe9f8ba",
   "outputs": [
    {
     "data": {
      "text/plain": [
       "1"
      ]
     },
     "execution_count": 6,
     "metadata": {},
     "output_type": "execute_result"
    }
   ],
   "execution_count": 6
  },
  {
   "metadata": {
    "ExecuteTime": {
     "end_time": "2024-06-01T19:13:19.983324Z",
     "start_time": "2024-06-01T19:13:19.976323Z"
    }
   },
   "cell_type": "code",
   "source": [
    "import torch\n",
    "\n",
    "if torch.cuda.is_available():\n",
    "    print(torch.cuda.get_device_name(torch.cuda.current_device()))\n",
    "else:\n",
    "    print(\"CUDA is not available.\")"
   ],
   "id": "e74020678d1c1c67",
   "outputs": [
    {
     "name": "stdout",
     "output_type": "stream",
     "text": [
      "NVIDIA GeForce RTX 3060 Laptop GPU\n"
     ]
    }
   ],
   "execution_count": 7
  },
  {
   "metadata": {},
   "cell_type": "code",
   "outputs": [],
   "execution_count": null,
   "source": "",
   "id": "519f028fefe405e"
  }
 ],
 "metadata": {
  "kernelspec": {
   "display_name": "Python 3",
   "language": "python",
   "name": "python3"
  },
  "language_info": {
   "codemirror_mode": {
    "name": "ipython",
    "version": 2
   },
   "file_extension": ".py",
   "mimetype": "text/x-python",
   "name": "python",
   "nbconvert_exporter": "python",
   "pygments_lexer": "ipython2",
   "version": "2.7.6"
  }
 },
 "nbformat": 4,
 "nbformat_minor": 5
}
