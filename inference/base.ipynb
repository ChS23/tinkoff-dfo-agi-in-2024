{
 "cells": [
  {
   "cell_type": "code",
   "id": "initial_id",
   "metadata": {
    "collapsed": true,
    "ExecuteTime": {
     "end_time": "2024-06-01T10:34:46.052484Z",
     "start_time": "2024-06-01T10:34:46.041741Z"
    }
   },
   "source": [
    "HOST = \"localhost\"\n",
    "PORT = \"8124\"\n",
    "TABLE_NAME = \"KnowledgeBase\"\n",
    "MODEL_EMB_NAME = \"ai-forever/sbert_large_nlu_ru\"\n",
    "MODEL_CHAT_NAME = \"TinyLlama/TinyLlama-1.1B-Chat-v1.0\"\n",
    "# MODEL_CHAT_NAME = \"Vikhrmodels/Vikhr-7B-instruct_0.4\"\n",
    "SYSTEM_PROMPT = \"\"\"\n",
    "INSTRUCT:\n",
    "You are a helpful, respectful and honest assistant. Always answer as helpfully as possible, while being safe. Your answers should not include any harmful, unethical, racist, sexist, toxic, dangerous, or illegal content. Please ensure that your responses are socially unbiased and positive in nature.\n",
    "\n",
    "If a question does not make any sense, or is not factually coherent, explain why instead of answering something not correct. If you don’t know the answer to a question, please don’t share false information.\n",
    "\n",
    "If you receive a question that is harmful, unethical, or inappropriate, end the dialogue immediately and do not provide a response. \n",
    "\n",
    "If you make a mistake, apologize and correct your answer.\n",
    "\n",
    "Generate a response based solely on the provided document.\n",
    "\n",
    "Answer the following question language based only on the CONTEXT provided.\n",
    "\n",
    "Отвечай только на русском языке.\n",
    "\"\"\""
   ],
   "outputs": [],
   "execution_count": 1
  },
  {
   "metadata": {
    "ExecuteTime": {
     "end_time": "2024-06-01T10:35:00.943492Z",
     "start_time": "2024-06-01T10:34:46.657153Z"
    }
   },
   "cell_type": "code",
   "source": [
    "import clickhouse_connect, torch\n",
    "from transformers import AutoModel, AutoTokenizer, Conversation, pipeline\n",
    "from typing import List, Union"
   ],
   "id": "225718b44c9a2af3",
   "outputs": [],
   "execution_count": 2
  },
  {
   "metadata": {
    "ExecuteTime": {
     "end_time": "2024-06-01T10:35:00.980725Z",
     "start_time": "2024-06-01T10:35:00.947564Z"
    }
   },
   "cell_type": "code",
   "source": [
    "def search_results(connection, table_name: str, vector: list[float], limit: int = 5):\n",
    "    \"\"\"\n",
    "    Поиск результатов похожих векторов в базе данных.\n",
    "\n",
    "    Parameters:\n",
    "    - connection (Connection): Соединение с базой данных.\n",
    "    - table_name (str): Название таблицы, содержащей вектора и другие данные.\n",
    "    - vector (List[float]): Вектор для сравнения.\n",
    "    - limit (int): Максимальное количество результатов.\n",
    "\n",
    "    Returns:\n",
    "    - List[dict]: Список результатов с наименованием, URL, датой, номером, текстом и расстоянием.\n",
    "\n",
    "    Examples:\n",
    "    >>> connection = Connection(...)\n",
    "    >>> vector = [0.1, 0.2, 0.3]\n",
    "    >>> results = search_results(connection, 'my_table', vector, limit=5)\n",
    "    \"\"\"\n",
    "    res = []\n",
    "    # Инициализируем список результатов\n",
    "    vector = \",\".join([str(float(i)) for i in vector])\n",
    "    # Выполняем запрос к базе данных\n",
    "    with connection.query(\n",
    "        f\"\"\"SELECT Id, Source, BusinessLineId, Direction, Product, Type, Description, Title, Url, ParentTitle, ParentUrl, ChunkType, cosineDistance(({vector}), Embedding) as score FROM {table_name} ORDER BY score ASC LIMIT {limit+500}\"\"\"\n",
    "    ).rows_stream as stream:\n",
    "        for item in stream:\n",
    "            id, source, business_line_id, direction, product, type, description, title, url, parent_title, parent_url, chunk_type, score = item\n",
    "\n",
    "            # Добавляем результат в список\n",
    "            res.append(\n",
    "                {\n",
    "                    \"id\": id,\n",
    "                    \"source\": source,\n",
    "                    \"business_line_id\": business_line_id,\n",
    "                    \"direction\": direction,\n",
    "                    \"product\": product,\n",
    "                    \"type\": type,\n",
    "                    \"description\": description,\n",
    "                    \"title\": title,\n",
    "                    \"url\": url,\n",
    "                    \"parent_title\": parent_title,\n",
    "                    \"parent_url\": parent_url,\n",
    "                    \"chunk_type\": chunk_type,\n",
    "                    \"distance\": score,\n",
    "                }\n",
    "            )\n",
    "\n",
    "    # Возвращаем первые limit результатов\n",
    "    res = [item for item in res if len(item[\"description\"]) > 100]\n",
    "    return res[:limit]\n",
    "\n",
    "\n",
    "def mean_pooling(model_output: tuple, attention_mask: torch.Tensor) -> torch.Tensor:\n",
    "    \"\"\"\n",
    "    Выполняет усреднение токенов входной последовательности на основе attention mask.\n",
    "\n",
    "    Parameters:\n",
    "    - model_output (tuple): Выход модели, включающий токенов эмбеддинги и другие данные.\n",
    "    - attention_mask (torch.Tensor): Маска внимания для указания значимости токенов.\n",
    "\n",
    "    Returns:\n",
    "    - torch.Tensor: Усредненный эмбеддинг.\n",
    "\n",
    "    Examples:\n",
    "    >>> embeddings = model_output[0]\n",
    "    >>> mask = torch.tensor([[1, 1, 1, 0, 0]])\n",
    "    >>> pooled_embedding = mean_pooling((embeddings,), mask)\n",
    "    \"\"\"\n",
    "    # Получаем эмбеддинги токенов из выхода модели\n",
    "    token_embeddings = model_output[0]\n",
    "\n",
    "    # Расширяем маску внимания для умножения с эмбеддингами\n",
    "    input_mask_expanded = (\n",
    "        attention_mask.unsqueeze(-1).expand(token_embeddings.size()).float()\n",
    "    )\n",
    "\n",
    "    # Умножаем каждый токен на его маску и суммируем\n",
    "    sum_embeddings = torch.sum(token_embeddings * input_mask_expanded, 1)\n",
    "\n",
    "    # Суммируем маски токенов и обрезаем значения, чтобы избежать деления на ноль\n",
    "    sum_mask = torch.clamp(input_mask_expanded.sum(1), min=1e-9)\n",
    "\n",
    "    # Вычисляем усредненный эмбеддинг\n",
    "    return sum_embeddings / sum_mask\n",
    "\n",
    "\n",
    "def txt2embeddings(\n",
    "    text: Union[str, List[str]], tokenizer, model, device: str = \"cpu\"\n",
    ") -> torch.Tensor:\n",
    "    \"\"\"\n",
    "    Преобразует текст в его векторное представление с использованием модели transformer.\n",
    "\n",
    "    Parameters:\n",
    "    - text (str): Текст для преобразования в векторное представление.\n",
    "    - tokenizer: Токенизатор для предобработки текста.\n",
    "    - model: Модель transformer для преобразования токенов в вектора.\n",
    "    - device (str): Устройство для вычислений (cpu или cuda).\n",
    "\n",
    "    Returns:\n",
    "    - torch.Tensor: Векторное представление текста.\n",
    "\n",
    "    Examples:\n",
    "    >>> text = \"Пример текста\"\n",
    "    >>> tokenizer = AutoTokenizer.from_pretrained(\"bert-base-multilingual-cased\")\n",
    "    >>> model = AutoModel.from_pretrained(\"bert-base-multilingual-cased\")\n",
    "    >>> embeddings = txt2embeddings(text, tokenizer, model, device=\"cuda\")\n",
    "    \"\"\"\n",
    "    # Кодируем входной текст с помощью токенизатора\n",
    "    if isinstance(text, str):\n",
    "        text = [text]\n",
    "    encoded_input = tokenizer(\n",
    "        text,\n",
    "        padding=True,\n",
    "        truncation=True,\n",
    "        return_tensors=\"pt\",\n",
    "        max_length=512,\n",
    "    )\n",
    "    # Перемещаем закодированный ввод на указанное устройство\n",
    "    encoded_input = {k: v.to(device) for k, v in encoded_input.items()}\n",
    "\n",
    "    # Получаем выход модели для закодированного ввода\n",
    "    with torch.no_grad():\n",
    "        model_output = model(**encoded_input)\n",
    "\n",
    "    # Преобразуем выход модели в векторное представление текста\n",
    "    return mean_pooling(model_output, encoded_input[\"attention_mask\"])\n",
    "\n",
    "\n",
    "def load_models(model: str, device: str = \"cpu\", torch_dtype: str = \"auto\") -> tuple:\n",
    "    \"\"\"\n",
    "    Загружает токенизатор и модель для указанной предобученной модели.\n",
    "\n",
    "    Parameters:\n",
    "    - model (str): Название предобученной модели, поддерживаемой библиотекой transformers.\n",
    "\n",
    "    Returns:\n",
    "    - tuple: Кортеж из токенизатора и модели.\n",
    "\n",
    "    Examples:\n",
    "    >>> tokenizer, model = load_models(\"ai-forever/sbert_large_nlu_ru\")\n",
    "    \"\"\"\n",
    "    # Загружаем токенизатор для модели\n",
    "    tokenizer = AutoTokenizer.from_pretrained(\n",
    "        model, device_map=device, torch_dtype=torch_dtype\n",
    "    )\n",
    "\n",
    "    # Загружаем модель\n",
    "    model = AutoModel.from_pretrained(model, device_map=device, torch_dtype=torch_dtype)\n",
    "\n",
    "    return tokenizer, model\n",
    "\n",
    "\n",
    "def load_chatbot(model: str, device: str = \"cuda\", torch_dtype: str = \"auto\"):\n",
    "    \"\"\"\n",
    "    Загружает чатбота для указанной модели.\n",
    "\n",
    "    Parameters:\n",
    "    - model (str): Название модели для загрузки чатбота.\n",
    "\n",
    "    Returns:\n",
    "    - Conversation: Объект чатбота, готовый для использования.\n",
    "\n",
    "    Examples:\n",
    "    >>> chatbot = load_chatbot(\"TinyLlama/TinyLlama-1.1B-Chat-v1.0\")\n",
    "    \"\"\"\n",
    "    # Загружаем чатбот с помощью pipeline из библиотеки transformers\n",
    "    chatbot = pipeline(\n",
    "        model=model,\n",
    "        trust_remote_code=True,\n",
    "        torch_dtype=torch_dtype,\n",
    "        device_map=device,\n",
    "        task=\"conversational\",\n",
    "    )\n",
    "    return chatbot\n",
    "\n",
    "\n",
    "def append_documents_to_conversation(conversation, documents, limit: int = 3):\n",
    "    if limit > len(documents):\n",
    "        texts = [document[\"description\"] for document in documents]\n",
    "    else:\n",
    "        texts = [document[\"description\"] for document in documents[:limit]]\n",
    "\n",
    "    text = \"\\n\".join(texts)\n",
    "\n",
    "    document_template = f\"\"\"\n",
    "    CONTEXT:\n",
    "    {text}\n",
    "    Отвечай только на русском языке.\n",
    "    \n",
    "    ВОПРОС:\n",
    "    \"\"\"\n",
    "    conversation.add_message({\"role\": \"user\", \"content\": document_template})\n",
    "\n",
    "    return conversation\n",
    "        \n",
    "\n",
    "def generate_answer(\n",
    "    chatbot,\n",
    "    conversation: Conversation,\n",
    "    max_new_tokens: int = 128,\n",
    "    temperature=0.7,\n",
    "    top_k: int = 50,\n",
    "    top_p: float = 0.95,\n",
    "    repetition_penalty: float = 2.0,\n",
    "    do_sample: bool = True,\n",
    "    num_beams: int = 2,\n",
    "    early_stopping: bool = True,\n",
    ") -> str:\n",
    "    \"\"\"\n",
    "    Генерирует ответ от чатбота на основе предоставленного чата и, возможно, документа.\n",
    "\n",
    "    Parameters:\n",
    "    - chatbot (Conversation): Объект чатбота.\n",
    "    - chat (List[Dict[str, str]]): Список сообщений в чате.\n",
    "    - document (str): Документ, если он предоставлен.\n",
    "\n",
    "    Returns:\n",
    "    - str: Сгенерированный ответ от чатбота.\n",
    "\n",
    "    Examples:\n",
    "    >>> chat = [\n",
    "    >>>     {\"role\": \"user\", \"content\": \"Привет, как дела?\"},\n",
    "    >>>     {\"role\": \"system\", \"content\": \"Всё отлично, спасибо!\"},\n",
    "    >>> ]\n",
    "    >>> document = \"Это документ для обработки\"\n",
    "    >>> answer = generate_answer(chatbot, chat, document)\n",
    "    \"\"\"\n",
    "    # Генерируем ответ от чатбота\n",
    "    conversation = chatbot(\n",
    "        conversation,\n",
    "        max_new_tokens=max_new_tokens,\n",
    "        temperature=temperature,\n",
    "        top_k=top_k,\n",
    "        top_p=top_p,\n",
    "        repetition_penalty=repetition_penalty,\n",
    "        do_sample=do_sample,\n",
    "        num_beams=num_beams,\n",
    "        early_stopping=early_stopping,\n",
    "    )\n",
    "\n",
    "    # Возвращаем последнее сообщение чатбота как ответ\n",
    "    return conversation"
   ],
   "id": "f44b1bfbbc5f8b6e",
   "outputs": [],
   "execution_count": 3
  },
  {
   "metadata": {
    "ExecuteTime": {
     "end_time": "2024-06-01T10:35:03.784754Z",
     "start_time": "2024-06-01T10:35:00.982741Z"
    }
   },
   "cell_type": "code",
   "source": "tokenizer, model = load_models(MODEL_EMB_NAME, device=\"cpu\")",
   "id": "a4527377c2d40a28",
   "outputs": [],
   "execution_count": 4
  },
  {
   "metadata": {
    "ExecuteTime": {
     "end_time": "2024-06-01T10:35:03.794592Z",
     "start_time": "2024-06-01T10:35:03.787581Z"
    }
   },
   "cell_type": "code",
   "source": [
    "# Создаем объект разговора\n",
    "conversation = Conversation()\n",
    "# Добавляем системную инструкцию\n",
    "conversation.add_message({\"role\": \"system\", \"content\": SYSTEM_PROMPT})"
   ],
   "id": "b34c8d111db9ba48",
   "outputs": [],
   "execution_count": 5
  },
  {
   "metadata": {
    "ExecuteTime": {
     "end_time": "2024-06-01T10:35:03.806626Z",
     "start_time": "2024-06-01T10:35:03.797650Z"
    }
   },
   "cell_type": "code",
   "source": "question = \"Какую онлайн-кассу выбрать, если я продаю в интернете?\" #String",
   "id": "50cd186cc49f2b54",
   "outputs": [],
   "execution_count": 6
  },
  {
   "metadata": {
    "ExecuteTime": {
     "end_time": "2024-06-01T10:35:07.018729Z",
     "start_time": "2024-06-01T10:35:03.808639Z"
    }
   },
   "cell_type": "code",
   "source": "embedding = txt2embeddings(question, tokenizer, model)",
   "id": "54ebd3f3f60612e2",
   "outputs": [],
   "execution_count": 7
  },
  {
   "metadata": {
    "ExecuteTime": {
     "end_time": "2024-06-01T10:35:07.471377Z",
     "start_time": "2024-06-01T10:35:07.021737Z"
    }
   },
   "cell_type": "code",
   "source": [
    "client = clickhouse_connect.get_client(host=HOST, port=PORT)\n",
    "print(\"Ping:\", client.ping())"
   ],
   "id": "8ac6f59ba517f4c6",
   "outputs": [
    {
     "name": "stdout",
     "output_type": "stream",
     "text": [
      "Ping: True\n"
     ]
    }
   ],
   "execution_count": 8
  },
  {
   "metadata": {
    "ExecuteTime": {
     "end_time": "2024-06-01T10:35:08.136453Z",
     "start_time": "2024-06-01T10:35:07.473398Z"
    }
   },
   "cell_type": "code",
   "source": "documents = search_results(client, TABLE_NAME, embedding[0], limit=10)",
   "id": "9f5132930dca4a6f",
   "outputs": [],
   "execution_count": 9
  },
  {
   "metadata": {
    "ExecuteTime": {
     "end_time": "2024-06-01T10:35:08.145619Z",
     "start_time": "2024-06-01T10:35:08.138455Z"
    }
   },
   "cell_type": "code",
   "source": "print(*documents, sep='\\n')",
   "id": "fbea24d80b2b5780",
   "outputs": [
    {
     "name": "stdout",
     "output_type": "stream",
     "text": [
      "{'id': UUID('80673f6d-586a-42e7-b3b7-26f439d99f36'), 'source': 'web', 'business_line_id': 'business', 'direction': 'account', 'product': 'business-card', 'type': 'card', 'description': 'Платить виртуальной картой можно в интернете. Просто введите ее реквизиты — номер, срок действия, CVC‑код — на сайте магазина. Где посмотреть реквизиты виртуальной бизнес-карты Если хотите расплачиваться бесконтактно в офлайн-магазинах, добавьте карту в приложение Mir Pay с помощью подсказок в приложении. Приложение работает только на Android.', 'title': 'Как платить виртуальной бизнес-картой?', 'url': 'https://www.tinkoff.ru/business/help/account/business-card/virtual-and-currency/virtual/?card=payment-virtual-card', 'parent_title': 'Виртуальная бизнес-карта', 'parent_url': 'https://www.tinkoff.ru/business/help/account/business-card/virtual-and-currency/virtual/', 'chunk_type': 'recursive', 'distance': 0.319852081015203}\n",
      "{'id': UUID('e7fab920-1738-4f95-88f3-075b7d3ffc47'), 'source': 'web', 'business_line_id': 'business', 'direction': 'business-invest', 'product': 'account', 'type': 'card', 'description': 'Пока что юридические лица могут купить облигации только в личном кабинете Тинькофф Бизнеса — в будние дни с 10:00 до 18:00 по московскому времени. Уже работаем над добавлением возможности торговать облигациями и в приложении Тинькофф Бизнеса. Как купить: На главном экране личного кабинета в списке счетов выберите «Брокерский счет» → «Инструменты для бизнеса» → «Облигации». При необходимости выберите нужные вам фильтры по валюте облигации, наличию оферты У облигаций оферта означает возможность досрочного погашения облигации по решению эмитента. При этом в некоторых облигациях с офертой погашение для инвесторов добровольное, а в других — обязательное и типу купонной доходности → нажмите на нужную вам облигацию. Укажите количество лотов Лот — это минимальное количество бумаг, которое можно купить за одну сделку. В облигациях обычно один лот равен одной облигации → «Купить». После покупки на экране появится подтверждение: со счета спишут деньги, а облигация появится в вашем портфеле. Но фактически денежные расчеты по сделке и поставка облигации завершатся только на следующий рабочий день в 04:00 по московскому времени — это важно помнить при бухгалтерском учете. Как продать: на главном экране личного кабинета в списке счетов выберите «Брокерский счет» → опуститесь до перечня купленных облигаций и выберите нужную → «Продать» → укажите количество лотов → «Продать». При продаже облигации расчеты также проходят только на следующий рабочий день. Поэтому вывести деньги, полученные от продажи облигации, можно только после 04:00 по московскому времени следующего дня после продажи облигации. Что такое НКД при покупке и продаже облигации. НКД — это накопленный купонный доход, который покупатель облигации платит ее продавцу сверх цены облигации. НКД нужен, чтобы продавец облигации не потерял процентные выплаты за дни, которые он продержал облигацию. Например, каждые три месяца по облигации выплачиваются 30 ₽ купонного дохода. Если с момента последней выплаты прошел один месяц, то по облигации уже скопилась выплата 10 ₽. Если в этот момент продать облигацию, то эти 10 ₽ вам компенсирует ее покупатель. А он, в свою очередь, получит эти деньги во время ближайшей купонной выплаты. Подробнее про накопленный купонный доход', 'title': 'Как купить или продать облигации?', 'url': 'https://www.tinkoff.ru/business/help/business-invest/account/use/bonds/?card=q2', 'parent_title': 'Как компаниям инвестировать в облигации', 'parent_url': 'https://www.tinkoff.ru/business/help/business-invest/account/use/bonds/', 'chunk_type': 'recursive', 'distance': 0.3622396843833514}\n",
      "{'id': UUID('c4e2689d-d9b7-4914-93bf-959a8be7491f'), 'source': 'web', 'business_line_id': 'business', 'direction': 'account', 'product': 'business-card', 'type': 'card', 'description': 'Выбрать, какие категории покупок может оплачивать сотрудник по существующей бизнес-карте, — бесплатно. Закажите нужное количество карт для сотрудников сразу с открытием расчетного счета. Сколько стоит выпустить бизнес-карту', 'title': 'Платно ли настраиваются категории товаров, за которые сотрудник может расплатиться бизнес-картой?', 'url': 'https://www.tinkoff.ru/business/help/account/business-card/about/mcc-setup/?card=paid-or-free', 'parent_title': 'Установить категории покупок', 'parent_url': 'https://www.tinkoff.ru/business/help/account/business-card/about/mcc-setup/', 'chunk_type': 'recursive', 'distance': 0.36443984880048896}\n",
      "{'id': UUID('c4e2689d-d9b7-4914-93bf-959a8be7491f'), 'source': 'web', 'business_line_id': 'business', 'direction': 'account', 'product': 'business-card', 'type': 'card', 'description': 'Выбрать, какие категории покупок может оплачивать сотрудник по существующей бизнес-карте, — бесплатно. Закажите нужное количество карт для сотрудников сразу с открытием расчетного счета. Сколько стоит выпустить бизнес-карту', 'title': 'Платно ли настраиваются категории товаров, за которые сотрудник может расплатиться бизнес-картой?', 'url': 'https://www.tinkoff.ru/business/help/account/business-card/about/mcc-setup/?card=paid-or-free', 'parent_title': 'Установить категории покупок', 'parent_url': 'https://www.tinkoff.ru/business/help/account/business-card/about/mcc-setup/', 'chunk_type': 'recursive', 'distance': 0.36443984880048896}\n",
      "{'id': UUID('0fb5ca11-f4ae-457b-a80a-cc9265980de6'), 'source': 'web', 'business_line_id': 'business', 'direction': 'account', 'product': 'business-card', 'type': 'card', 'description': 'Для бизнес-карты есть три вида лимитов: на ежемесячные расходы; на снятие наличных в сутки; на категории покупок, на которые разрешено тратить деньги, — например, топливо или супермаркеты. Как установить категории покупок С лимитами на ежемесячные расходы и категории покупок вы можете контролировать сотрудников, чтобы они не потратили с карты больше или на личные нужды. Как настроить лимиты', 'title': 'Какие лимиты есть для бизнес-карты?', 'url': 'https://www.tinkoff.ru/business/help/account/business-card/about/use-card/?card=which-limits', 'parent_title': 'Пользоваться картой', 'parent_url': 'https://www.tinkoff.ru/business/help/account/business-card/about/use-card/', 'chunk_type': 'recursive', 'distance': 0.3733441840265498}\n",
      "{'id': UUID('0fb5ca11-f4ae-457b-a80a-cc9265980de6'), 'source': 'web', 'business_line_id': 'business', 'direction': 'account', 'product': 'business-card', 'type': 'card', 'description': 'Для бизнес-карты есть три вида лимитов: на ежемесячные расходы; на снятие наличных в сутки; на категории покупок, на которые разрешено тратить деньги, — например, топливо или супермаркеты. Как установить категории покупок С лимитами на ежемесячные расходы и категории покупок вы можете контролировать сотрудников, чтобы они не потратили с карты больше или на личные нужды. Как настроить лимиты', 'title': 'Какие лимиты есть для бизнес-карты?', 'url': 'https://www.tinkoff.ru/business/help/account/business-card/about/use-card/?card=which-limits', 'parent_title': 'Пользоваться картой', 'parent_url': 'https://www.tinkoff.ru/business/help/account/business-card/about/use-card/', 'chunk_type': 'recursive', 'distance': 0.3733441840265498}\n",
      "{'id': UUID('bf3a634a-a4b7-4a15-b7ca-347ac0ec4884'), 'source': 'web', 'business_line_id': 'business', 'direction': 'account', 'product': 'business-card', 'type': 'card', 'description': 'Ее можно использовать как обычную дебетовую карту. Расплачиваться в интернете. Функциональность, как у обычной карты: можно разово указать ее реквизиты на сайте или привязать их для регулярных покупок. Это удобно, если магазин не вызывает доверия: чтобы не сообщать ему реквизиты основной карты, выпустите виртуальную карту, укажите ее реквизиты в магазине, а на самой карте установите лимит расходов, чтобы не списалось лишнее. Как настроить лимиты по бизнес-карте Расплачиваться бесконтактно в офлайн-магазинах. С марта 2022 для российских карт Visa и Mastercard недоступна оплата через Apple Pay и Google Pay. Чтобы расплачиваться бесконтактно, на устройствах с Android можно добавить бизнес-карту в приложение Mir Pay с помощью подсказок в приложении. Распределить расходы. С помощью разных карт можно распределить расходы — с одной оплачивать только транспорт, с другой — только аренду и коммунальные платежи. Так будет проще контролировать разные крупные статьи расходов. Использовать в командировках. Авиакомпании, отели, сервисы по прокату автомобилей могут заморозить на карте депозит за бронирование. Если вы укажете номер виртуальной карты, на которую установили лимит, сможете защитить себя от внезапно обнулившегося баланса. Как настроить лимиты по бизнес-карте С марта 2022 года российские карты Visa и Mastercard не работают за границей. В некоторых странах, например в Абхазии, Беларуси и Казахстане, оплачивать покупки можно только с помощью бизнес-карты «Мир». Карту можно привязать к Mir Pay и оплачивать ей покупки в офлайн-магазинах. Делать покупки в зарубежных интернет-магазинах не получится. В каких странах работает платежная система «Мир»', 'title': 'Зачем нужна виртуальная бизнес-карта?', 'url': 'https://www.tinkoff.ru/business/help/account/business-card/virtual-and-currency/virtual/?card=what-for-virtual-card', 'parent_title': 'Виртуальная бизнес-карта', 'parent_url': 'https://www.tinkoff.ru/business/help/account/business-card/virtual-and-currency/virtual/', 'chunk_type': 'recursive', 'distance': 0.3733646813201502}\n",
      "{'id': UUID('1e4be799-455a-4fb3-9386-0d789cfc1303'), 'source': 'web', 'business_line_id': 'business', 'direction': 'account', 'product': 'business-card', 'type': 'card', 'description': 'Если у вас ИП, можете оплачивать покупки и для бизнеса, и для личных целей. Если у вас ООО, можете оплачивать покупки только для бизнеса — например, купить канцтовары, оплачивать представительские расходы, аренду офиса.', 'title': 'Что можно оплачивать бизнес-картой?', 'url': 'https://www.tinkoff.ru/business/help/account/business-card/about/use-card/?card=for-personal-use', 'parent_title': 'Пользоваться картой', 'parent_url': 'https://www.tinkoff.ru/business/help/account/business-card/about/use-card/', 'chunk_type': 'recursive', 'distance': 0.37547752916931687}\n",
      "{'id': UUID('1e4be799-455a-4fb3-9386-0d789cfc1303'), 'source': 'web', 'business_line_id': 'business', 'direction': 'account', 'product': 'business-card', 'type': 'card', 'description': 'Если у вас ИП, можете оплачивать покупки и для бизнеса, и для личных целей. Если у вас ООО, можете оплачивать покупки только для бизнеса — например, купить канцтовары, оплачивать представительские расходы, аренду офиса.', 'title': 'Что можно оплачивать бизнес-картой?', 'url': 'https://www.tinkoff.ru/business/help/account/business-card/about/use-card/?card=for-personal-use', 'parent_title': 'Пользоваться картой', 'parent_url': 'https://www.tinkoff.ru/business/help/account/business-card/about/use-card/', 'chunk_type': 'recursive', 'distance': 0.37547752916931687}\n",
      "{'id': UUID('0edfd58a-f3a2-4268-9e77-87dfabcf960f'), 'source': 'web', 'business_line_id': 'business', 'direction': 'account', 'product': 'business-card', 'type': 'card', 'description': 'Это можно сделать в мобильном приложении или личном кабинете Тинькофф Бизнеса: в мобильном приложении выберите нужную карту → нажмите «Настройка трат» → в разделе «Категории» выберите одну или несколько категорий товаров и услуг → нажмите «Установить категории»; в личном кабинете выберите нужную карту → нажмите «Действия с картой» → «Задать категорию трат».', 'title': 'Как установить ограничения по виду покупок на карту?', 'url': 'https://www.tinkoff.ru/business/help/account/business-card/about/mcc-setup/?card=limits-for-one-card', 'parent_title': 'Установить категории покупок', 'parent_url': 'https://www.tinkoff.ru/business/help/account/business-card/about/mcc-setup/', 'chunk_type': 'recursive', 'distance': 0.3755251656604681}\n"
     ]
    }
   ],
   "execution_count": 10
  },
  {
   "metadata": {
    "ExecuteTime": {
     "end_time": "2024-06-01T10:35:08.160138Z",
     "start_time": "2024-06-01T10:35:08.149795Z"
    }
   },
   "cell_type": "code",
   "source": "print(*[document[\"url\"] for document in documents], sep='\\n')",
   "id": "9e480818ec936ad2",
   "outputs": [
    {
     "name": "stdout",
     "output_type": "stream",
     "text": [
      "https://www.tinkoff.ru/business/help/account/business-card/virtual-and-currency/virtual/?card=payment-virtual-card\n",
      "https://www.tinkoff.ru/business/help/business-invest/account/use/bonds/?card=q2\n",
      "https://www.tinkoff.ru/business/help/account/business-card/about/mcc-setup/?card=paid-or-free\n",
      "https://www.tinkoff.ru/business/help/account/business-card/about/mcc-setup/?card=paid-or-free\n",
      "https://www.tinkoff.ru/business/help/account/business-card/about/use-card/?card=which-limits\n",
      "https://www.tinkoff.ru/business/help/account/business-card/about/use-card/?card=which-limits\n",
      "https://www.tinkoff.ru/business/help/account/business-card/virtual-and-currency/virtual/?card=what-for-virtual-card\n",
      "https://www.tinkoff.ru/business/help/account/business-card/about/use-card/?card=for-personal-use\n",
      "https://www.tinkoff.ru/business/help/account/business-card/about/use-card/?card=for-personal-use\n",
      "https://www.tinkoff.ru/business/help/account/business-card/about/mcc-setup/?card=limits-for-one-card\n"
     ]
    }
   ],
   "execution_count": 11
  },
  {
   "metadata": {
    "ExecuteTime": {
     "end_time": "2024-06-01T10:35:08.169894Z",
     "start_time": "2024-06-01T10:35:08.162651Z"
    }
   },
   "cell_type": "code",
   "source": [
    "conversation = append_documents_to_conversation(conversation, documents, limit=3)\n",
    "conversation.add_message({\"role\": \"user\", \"content\": question})"
   ],
   "id": "10ec2f5c718fe122",
   "outputs": [],
   "execution_count": 12
  },
  {
   "metadata": {
    "ExecuteTime": {
     "end_time": "2024-06-01T10:35:15.222174Z",
     "start_time": "2024-06-01T10:35:08.173456Z"
    }
   },
   "cell_type": "code",
   "source": "chatbot = load_chatbot(MODEL_CHAT_NAME, device=\"cuda\")",
   "id": "e9a7e3be7eb4b232",
   "outputs": [],
   "execution_count": 13
  },
  {
   "metadata": {
    "ExecuteTime": {
     "end_time": "2024-06-01T10:35:15.228973Z",
     "start_time": "2024-06-01T10:35:15.224182Z"
    }
   },
   "cell_type": "code",
   "source": "torch.cuda.empty_cache()",
   "id": "335163d1bdd09da2",
   "outputs": [],
   "execution_count": 14
  },
  {
   "metadata": {
    "ExecuteTime": {
     "end_time": "2024-06-01T10:35:25.062431Z",
     "start_time": "2024-06-01T10:35:15.230982Z"
    }
   },
   "cell_type": "code",
   "source": [
    "conversation = generate_answer(chatbot, conversation, temperature=0.9)\n",
    "print(conversation[-1][\"content\"])"
   ],
   "id": "c303cf8c6ed3ddc3",
   "outputs": [
    {
     "name": "stdout",
     "output_type": "stream",
     "text": [
      "Если вы продаете в интернете, то лучше выбрать онлайн-кассу, которая будет поддерживать ваши транзакции через Интернет. Это позволит вам повысить уровень безопасности и защитить ваши данные. Некоторые популярные онлайн-кассы, такие как PayPal, Square, Stripe, и Amazon Pay, поддерживают веб-приложения, которые позволяют вам совершать транзакции без требований к физиче\n"
     ]
    }
   ],
   "execution_count": 15
  },
  {
   "metadata": {
    "ExecuteTime": {
     "end_time": "2024-06-01T10:35:25.072374Z",
     "start_time": "2024-06-01T10:35:25.064593Z"
    }
   },
   "cell_type": "code",
   "source": "conversation",
   "id": "2b07a3ef2b4e8183",
   "outputs": [
    {
     "data": {
      "text/plain": [
       "Conversation id: 42ab779b-216c-4185-a374-f09518a82ddf\n",
       "system: \n",
       "INSTRUCT:\n",
       "You are a helpful, respectful and honest assistant. Always answer as helpfully as possible, while being safe. Your answers should not include any harmful, unethical, racist, sexist, toxic, dangerous, or illegal content. Please ensure that your responses are socially unbiased and positive in nature.\n",
       "\n",
       "If a question does not make any sense, or is not factually coherent, explain why instead of answering something not correct. If you don’t know the answer to a question, please don’t share false information.\n",
       "\n",
       "If you receive a question that is harmful, unethical, or inappropriate, end the dialogue immediately and do not provide a response. \n",
       "\n",
       "If you make a mistake, apologize and correct your answer.\n",
       "\n",
       "Generate a response based solely on the provided document.\n",
       "\n",
       "Answer the following question language based only on the CONTEXT provided.\n",
       "\n",
       "Отвечай только на русском языке.\n",
       "\n",
       "user: \n",
       "    CONTEXT:\n",
       "    Платить виртуальной картой можно в интернете. Просто введите ее реквизиты — номер, срок действия, CVC‑код — на сайте магазина. Где посмотреть реквизиты виртуальной бизнес-карты Если хотите расплачиваться бесконтактно в офлайн-магазинах, добавьте карту в приложение Mir Pay с помощью подсказок в приложении. Приложение работает только на Android.\n",
       "Пока что юридические лица могут купить облигации только в личном кабинете Тинькофф Бизнеса — в будние дни с 10:00 до 18:00 по московскому времени. Уже работаем над добавлением возможности торговать облигациями и в приложении Тинькофф Бизнеса. Как купить: На главном экране личного кабинета в списке счетов выберите «Брокерский счет» → «Инструменты для бизнеса» → «Облигации». При необходимости выберите нужные вам фильтры по валюте облигации, наличию оферты У облигаций оферта означает возможность досрочного погашения облигации по решению эмитента. При этом в некоторых облигациях с офертой погашение для инвесторов добровольное, а в других — обязательное и типу купонной доходности → нажмите на нужную вам облигацию. Укажите количество лотов Лот — это минимальное количество бумаг, которое можно купить за одну сделку. В облигациях обычно один лот равен одной облигации → «Купить». После покупки на экране появится подтверждение: со счета спишут деньги, а облигация появится в вашем портфеле. Но фактически денежные расчеты по сделке и поставка облигации завершатся только на следующий рабочий день в 04:00 по московскому времени — это важно помнить при бухгалтерском учете. Как продать: на главном экране личного кабинета в списке счетов выберите «Брокерский счет» → опуститесь до перечня купленных облигаций и выберите нужную → «Продать» → укажите количество лотов → «Продать». При продаже облигации расчеты также проходят только на следующий рабочий день. Поэтому вывести деньги, полученные от продажи облигации, можно только после 04:00 по московскому времени следующего дня после продажи облигации. Что такое НКД при покупке и продаже облигации. НКД — это накопленный купонный доход, который покупатель облигации платит ее продавцу сверх цены облигации. НКД нужен, чтобы продавец облигации не потерял процентные выплаты за дни, которые он продержал облигацию. Например, каждые три месяца по облигации выплачиваются 30 ₽ купонного дохода. Если с момента последней выплаты прошел один месяц, то по облигации уже скопилась выплата 10 ₽. Если в этот момент продать облигацию, то эти 10 ₽ вам компенсирует ее покупатель. А он, в свою очередь, получит эти деньги во время ближайшей купонной выплаты. Подробнее про накопленный купонный доход\n",
       "Выбрать, какие категории покупок может оплачивать сотрудник по существующей бизнес-карте, — бесплатно. Закажите нужное количество карт для сотрудников сразу с открытием расчетного счета. Сколько стоит выпустить бизнес-карту\n",
       "    Отвечай только на русском языке.\n",
       "    \n",
       "    ВОПРОС:\n",
       "    \n",
       "user: Какую онлайн-кассу выбрать, если я продаю в интернете?\n",
       "assistant: Если вы продаете в интернете, то лучше выбрать онлайн-кассу, которая будет поддерживать ваши транзакции через Интернет. Это позволит вам повысить уровень безопасности и защитить ваши данные. Некоторые популярные онлайн-кассы, такие как PayPal, Square, Stripe, и Amazon Pay, поддерживают веб-приложения, которые позволяют вам совершать транзакции без требований к физиче"
      ]
     },
     "execution_count": 16,
     "metadata": {},
     "output_type": "execute_result"
    }
   ],
   "execution_count": 16
  },
  {
   "metadata": {},
   "cell_type": "code",
   "outputs": [],
   "execution_count": null,
   "source": "",
   "id": "330421a3d3c3da6a"
  }
 ],
 "metadata": {
  "kernelspec": {
   "display_name": "Python 3",
   "language": "python",
   "name": "python3"
  },
  "language_info": {
   "codemirror_mode": {
    "name": "ipython",
    "version": 2
   },
   "file_extension": ".py",
   "mimetype": "text/x-python",
   "name": "python",
   "nbconvert_exporter": "python",
   "pygments_lexer": "ipython2",
   "version": "2.7.6"
  }
 },
 "nbformat": 4,
 "nbformat_minor": 5
}
