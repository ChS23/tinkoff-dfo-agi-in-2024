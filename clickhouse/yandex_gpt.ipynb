{
 "cells": [
  {
   "cell_type": "code",
   "id": "initial_id",
   "metadata": {
    "collapsed": true,
    "ExecuteTime": {
     "end_time": "2024-05-31T23:18:39.120653Z",
     "start_time": "2024-05-31T23:18:39.117513Z"
    }
   },
   "source": "PATH = r'C:\\Users\\c4s23\\YandexDisk\\GitHub\\tinkoff-dfo-agi-in-2024\\task\\dataset.json'",
   "outputs": [],
   "execution_count": 40
  },
  {
   "metadata": {
    "ExecuteTime": {
     "end_time": "2024-05-31T23:18:39.460900Z",
     "start_time": "2024-05-31T23:18:39.456516Z"
    }
   },
   "cell_type": "code",
   "source": "import orjson",
   "id": "238bd05113cc7bee",
   "outputs": [],
   "execution_count": 41
  },
  {
   "metadata": {
    "ExecuteTime": {
     "end_time": "2024-05-31T23:18:39.809173Z",
     "start_time": "2024-05-31T23:18:39.776180Z"
    }
   },
   "cell_type": "code",
   "source": [
    "with open(PATH, 'rb') as f:\n",
    "    data = orjson.loads(f.read())['data']"
   ],
   "id": "e6f53117c98858f8",
   "outputs": [],
   "execution_count": 42
  },
  {
   "metadata": {
    "ExecuteTime": {
     "end_time": "2024-05-31T23:18:40.237709Z",
     "start_time": "2024-05-31T23:18:40.230650Z"
    }
   },
   "cell_type": "code",
   "source": "output = []",
   "id": "b697fe0fae8e76d3",
   "outputs": [],
   "execution_count": 43
  },
  {
   "metadata": {
    "ExecuteTime": {
     "end_time": "2024-05-31T23:18:40.605578Z",
     "start_time": "2024-05-31T23:18:40.602608Z"
    }
   },
   "cell_type": "code",
   "source": "system = 'Ты выводишь ответ на вопрос и указываешь ссулку на источник. По возможности, старайся использовать своими словами, а не копировать текст из источника.'",
   "id": "c1ea5f66b0a48181",
   "outputs": [],
   "execution_count": 44
  },
  {
   "metadata": {
    "ExecuteTime": {
     "end_time": "2024-05-31T23:18:40.958975Z",
     "start_time": "2024-05-31T23:18:40.950658Z"
    }
   },
   "cell_type": "code",
   "source": [
    "for item in data:\n",
    "    request = [{'role': 'system', 'text': system}, {'role': 'user', 'text': item['title']}]\n",
    "    output.append({'request': request, 'response': item['description'][:1999]})"
   ],
   "id": "2e1a2f7c2692031c",
   "outputs": [],
   "execution_count": 45
  },
  {
   "metadata": {
    "ExecuteTime": {
     "end_time": "2024-05-31T23:18:41.464719Z",
     "start_time": "2024-05-31T23:18:41.437709Z"
    }
   },
   "cell_type": "code",
   "source": [
    "with open('yandex_gpt.json', 'wb') as f:\n",
    "    for entry in output:\n",
    "        f.write(orjson.dumps(entry) + b'\\n')"
   ],
   "id": "266f0b83b437296c",
   "outputs": [],
   "execution_count": 46
  },
  {
   "metadata": {},
   "cell_type": "code",
   "outputs": [],
   "execution_count": null,
   "source": "",
   "id": "c46aafaf75d215b8"
  }
 ],
 "metadata": {
  "kernelspec": {
   "display_name": "Python 3",
   "language": "python",
   "name": "python3"
  },
  "language_info": {
   "codemirror_mode": {
    "name": "ipython",
    "version": 2
   },
   "file_extension": ".py",
   "mimetype": "text/x-python",
   "name": "python",
   "nbconvert_exporter": "python",
   "pygments_lexer": "ipython2",
   "version": "2.7.6"
  }
 },
 "nbformat": 4,
 "nbformat_minor": 5
}
